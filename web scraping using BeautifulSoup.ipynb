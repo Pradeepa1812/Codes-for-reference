{
 "cells": [
  {
   "cell_type": "code",
   "execution_count": 1,
   "metadata": {},
   "outputs": [],
   "source": [
    "from bs4 import BeautifulSoup\n",
    "import requests"
   ]
  },
  {
   "cell_type": "code",
   "execution_count": 2,
   "metadata": {},
   "outputs": [
    {
     "name": "stdout",
     "output_type": "stream",
     "text": [
      "<html>\n",
      "<head>\n",
      "<title>A sample page</title>\n",
      "<style>\n",
      ".footer{\n",
      "color=pink\n",
      "}\n",
      ".artile{\n",
      "bgcolor=green\n",
      "\n",
      "}\n",
      "</style>\n",
      "</head>\n",
      "<body bgcolor=\"lavender\">\n",
      "<div class=\"artile\">\n",
      "<h2><a href=\"article1.html\">Article 1 Heading</a></h2>\n",
      "<p>This is a summary 1</p>\n",
      "</div>\n",
      "<hr/>\n",
      "<div class=\"artile\">\n",
      "<h2><a href=\"article1.html\">Article 2 heading</a></h2>\n",
      "<p>This is a summary 2</p>\n",
      "</div>\n",
      "<hr/>\n",
      "<div class=\"footer\">\n",
      "<p>Footer information</p>\n",
      "</div>\n",
      "</body>\n",
      "</html>\n"
     ]
    }
   ],
   "source": [
    "with open('simple.html')as html_file:\n",
    "    soup=BeautifulSoup(html_file,'lxml')\n",
    "print(soup)"
   ]
  },
  {
   "cell_type": "code",
   "execution_count": 3,
   "metadata": {},
   "outputs": [
    {
     "name": "stdout",
     "output_type": "stream",
     "text": [
      "<html>\n",
      " <head>\n",
      "  <title>\n",
      "   A sample page\n",
      "  </title>\n",
      "  <style>\n",
      "   .footer{\n",
      "color=pink\n",
      "}\n",
      ".artile{\n",
      "bgcolor=green\n",
      "\n",
      "}\n",
      "  </style>\n",
      " </head>\n",
      " <body bgcolor=\"lavender\">\n",
      "  <div class=\"artile\">\n",
      "   <h2>\n",
      "    <a href=\"article1.html\">\n",
      "     Article 1 Heading\n",
      "    </a>\n",
      "   </h2>\n",
      "   <p>\n",
      "    This is a summary 1\n",
      "   </p>\n",
      "  </div>\n",
      "  <hr/>\n",
      "  <div class=\"artile\">\n",
      "   <h2>\n",
      "    <a href=\"article1.html\">\n",
      "     Article 2 heading\n",
      "    </a>\n",
      "   </h2>\n",
      "   <p>\n",
      "    This is a summary 2\n",
      "   </p>\n",
      "  </div>\n",
      "  <hr/>\n",
      "  <div class=\"footer\">\n",
      "   <p>\n",
      "    Footer information\n",
      "   </p>\n",
      "  </div>\n",
      " </body>\n",
      "</html>\n"
     ]
    }
   ],
   "source": [
    "print(soup.prettify())"
   ]
  },
  {
   "cell_type": "code",
   "execution_count": 4,
   "metadata": {},
   "outputs": [
    {
     "data": {
      "text/plain": [
       "<div class=\"artile\">\n",
       "<h2><a href=\"article1.html\">Article 1 Heading</a></h2>\n",
       "<p>This is a summary 1</p>\n",
       "</div>"
      ]
     },
     "execution_count": 4,
     "metadata": {},
     "output_type": "execute_result"
    }
   ],
   "source": [
    "match=soup.div\n",
    "match"
   ]
  },
  {
   "cell_type": "code",
   "execution_count": 5,
   "metadata": {},
   "outputs": [
    {
     "data": {
      "text/plain": [
       "'Footer information'"
      ]
     },
     "execution_count": 5,
     "metadata": {},
     "output_type": "execute_result"
    }
   ],
   "source": [
    "match=soup.find('div',class_='footer').p.text\n",
    "match"
   ]
  },
  {
   "cell_type": "code",
   "execution_count": 6,
   "metadata": {},
   "outputs": [
    {
     "data": {
      "text/plain": [
       "<div class=\"artile\">\n",
       "<h2><a href=\"article1.html\">Article 1 Heading</a></h2>\n",
       "<p>This is a summary 1</p>\n",
       "</div>"
      ]
     },
     "execution_count": 6,
     "metadata": {},
     "output_type": "execute_result"
    }
   ],
   "source": [
    "soup.div"
   ]
  },
  {
   "cell_type": "code",
   "execution_count": 7,
   "metadata": {},
   "outputs": [],
   "source": [
    "match=soup.find('div',class_=\"artile\")"
   ]
  },
  {
   "cell_type": "code",
   "execution_count": 8,
   "metadata": {},
   "outputs": [
    {
     "data": {
      "text/plain": [
       "<div class=\"artile\">\n",
       "<h2><a href=\"article1.html\">Article 1 Heading</a></h2>\n",
       "<p>This is a summary 1</p>\n",
       "</div>"
      ]
     },
     "execution_count": 8,
     "metadata": {},
     "output_type": "execute_result"
    }
   ],
   "source": [
    "match"
   ]
  },
  {
   "cell_type": "code",
   "execution_count": 9,
   "metadata": {},
   "outputs": [
    {
     "data": {
      "text/plain": [
       "'Article 1 Heading'"
      ]
     },
     "execution_count": 9,
     "metadata": {},
     "output_type": "execute_result"
    }
   ],
   "source": [
    "match.h2.a.text"
   ]
  },
  {
   "cell_type": "code",
   "execution_count": 10,
   "metadata": {},
   "outputs": [
    {
     "data": {
      "text/plain": [
       "'This is a summary 1'"
      ]
     },
     "execution_count": 10,
     "metadata": {},
     "output_type": "execute_result"
    }
   ],
   "source": [
    "match.p.text"
   ]
  },
  {
   "cell_type": "code",
   "execution_count": 11,
   "metadata": {},
   "outputs": [
    {
     "name": "stdout",
     "output_type": "stream",
     "text": [
      "Article 1 Heading\n",
      "This is a summary 1\n",
      "\n",
      "Article 2 heading\n",
      "This is a summary 2\n",
      "\n"
     ]
    }
   ],
   "source": [
    "for match in soup.find_all('div',class_=\"artile\"):\n",
    "    headline=match.h2.a.text\n",
    "    print(headline)\n",
    "    \n",
    "    summary=match.p.text\n",
    "    print(summary)\n",
    "    \n",
    "    print()"
   ]
  },
  {
   "cell_type": "markdown",
   "metadata": {},
   "source": [
    "## Corey Heading"
   ]
  },
  {
   "cell_type": "code",
   "execution_count": 12,
   "metadata": {},
   "outputs": [],
   "source": [
    "from bs4 import BeautifulSoup\n",
    "import requests"
   ]
  },
  {
   "cell_type": "code",
   "execution_count": 13,
   "metadata": {},
   "outputs": [],
   "source": [
    "import csv"
   ]
  },
  {
   "cell_type": "code",
   "execution_count": 15,
   "metadata": {},
   "outputs": [],
   "source": [
    "source=requests.get('http://coreyms.com').text\n",
    "soup=BeautifulSoup(source,'lxml')"
   ]
  },
  {
   "cell_type": "code",
   "execution_count": 16,
   "metadata": {},
   "outputs": [
    {
     "data": {
      "text/plain": [
       "29"
      ]
     },
     "execution_count": 16,
     "metadata": {},
     "output_type": "execute_result"
    }
   ],
   "source": [
    "csv_file=open('csv_scraping.csv','w')\n",
    "csv_writer=csv.writer(csv_file)\n",
    "csv_writer.writerow(['headline','summary','video_link'])"
   ]
  },
  {
   "cell_type": "code",
   "execution_count": 17,
   "metadata": {},
   "outputs": [
    {
     "name": "stdout",
     "output_type": "stream",
     "text": [
      "Python Tutorial: Zip Files – Creating and Extracting Zip Archives\n",
      "In this video, we will be learning how to create and extract zip archives. We will start by using the zipfile module, and then we will see how to do this using the shutil module. We will learn how to do this with single files and directories, as well as learning how to use gzip as well. Let’s get started…\n",
      "https://youtube.com/watch?v=z0gguhEmWiY\n",
      "\n",
      "Python Data Science Tutorial: Analyzing the 2019 Stack Overflow Developer Survey\n",
      "In this Python Programming video, we will be learning how to download and analyze real-world data from the 2019 Stack Overflow Developer Survey. This is terrific practice for anyone getting into the data science field. We will learn different ways to analyze this data and also some best practices. Let’s get started…\n",
      "https://youtube.com/watch?v=_P7X8tMplsw\n",
      "\n",
      "Python Multiprocessing Tutorial: Run Code in Parallel Using the Multiprocessing Module\n",
      "In this Python Programming video, we will be learning how to run code in parallel using the multiprocessing module. We will also look at how to process multiple high-resolution images at the same time using a ProcessPoolExecutor from the concurrent.futures module. Let’s get started…\n",
      "https://youtube.com/watch?v=fKl2JW_qrso\n",
      "\n",
      "Python Threading Tutorial: Run Code Concurrently Using the Threading Module\n",
      "In this Python Programming video, we will be learning how to run threads concurrently using the threading module. We will also look at how to download multiple high-resolution images online using a ThreadPoolExecutor from the concurrent.futures module. Let’s get started…\n",
      "https://youtube.com/watch?v=IEEhzQoKtQU\n",
      "\n",
      "Update (2019-09-03)\n",
      "Hey everyone. I wanted to give you an update on my videos. I will be releasing videos on threading and multiprocessing within the next week. Thanks so much for your patience. I currently have a temporary recording studio setup at my Airbnb that will allow me to record and edit the threading/multiprocessing videos. I am going to be moving into my new house in 10 days and once I have my recording studio setup then you can expect much faster video releases. I really appreciate how patient everyone has been while I go through this move, especially those of you who are contributing monthly through YouTube \n",
      "None\n",
      "\n",
      "Python Quick Tip: The Difference Between “==” and “is” (Equality vs Identity)\n",
      "In this Python Programming Tutorial, we will be learning the difference between using “==” and the “is” keyword when doing comparisons. The difference between these is that “==” checks to see if values are equal, and the “is” keyword checks their identity, which means it’s going to check if the values are identical in terms of being the same object in memory. We’ll learn more in the video. Let’s get started…\n",
      "https://youtube.com/watch?v=mO_dS3rXDIs\n",
      "\n",
      "Python Tutorial: Calling External Commands Using the Subprocess Module\n",
      "In this Python Programming Tutorial, we will be learning how to run external commands using the subprocess module from the standard library. We will learn how to run commands, capture the output, handle errors, and also how to pipe output into other commands. Let’s get started…\n",
      "https://youtube.com/watch?v=2Fp1N6dof0Y\n",
      "\n",
      "Visual Studio Code (Windows) – Setting up a Python Development Environment and Complete Overview\n",
      "In this Python Programming Tutorial, we will be learning how to set up a Python development environment in VSCode on Windows. VSCode is a very nice free editor for writing Python applications and many developers are now switching over to this editor. In this video, we will learn how to install VSCode, get the Python extension installed, how to change Python interpreters, create virtual environments, format/lint our code, how to use Git within VSCode, how to debug our programs, how unit testing works, and more. We have a lot to cover, so let’s go ahead and get started…\n",
      "https://youtube.com/watch?v=-nh9rCzPJ20\n",
      "\n",
      "Visual Studio Code (Mac) – Setting up a Python Development Environment and Complete Overview\n",
      "In this Python Programming Tutorial, we will be learning how to set up a Python development environment in VSCode on MacOS. VSCode is a very nice free editor for writing Python applications and many developers are now switching over to this editor. In this video, we will learn how to install VSCode, get the Python extension installed, how to change Python interpreters, create virtual environments, format/lint our code, how to use Git within VSCode, how to debug our programs, how unit testing works, and more. We have a lot to cover, so let’s go ahead and get started…\n",
      "https://youtube.com/watch?v=06I63_p-2A4\n",
      "\n",
      "Clarifying the Issues with Mutable Default Arguments\n",
      "In this Python Programming Tutorial, we will be clarifying the issues with mutable default arguments. We discussed this in my last video titled “5 Common Python Mistakes and How to Fix Them”, but I received many comments from people who were still confused. So we will be doing a deeper dive to explain exactly what is going on here. Let’s get started…\n",
      "https://youtube.com/watch?v=_JGmemuINww\n",
      "\n"
     ]
    }
   ],
   "source": [
    "for article in soup.find_all('article'):\n",
    "    headline=article.h2.a.text\n",
    "    print(headline)\n",
    "    summary=article.find('div',class_='entry-content').p.text\n",
    "    print(summary)\n",
    "    try:\n",
    "        vid_src=article.find('iframe',class_='youtube-player')['src']\n",
    "        vid_id=vid_src.split('/')[4]\n",
    "        vid_id=vid_id.split('?')[0]\n",
    "        yt_link=f'https://youtube.com/watch?v={vid_id}'\n",
    "    except Exception as e:\n",
    "        yt_link=None\n",
    "    \n",
    "    print(yt_link)\n",
    "    print()\n",
    "    csv_writer.writerow([headline,summary,yt_link])\n",
    "csv_file.close()"
   ]
  },
  {
   "cell_type": "code",
   "execution_count": 18,
   "metadata": {},
   "outputs": [],
   "source": [
    "import pandas as pd"
   ]
  },
  {
   "cell_type": "code",
   "execution_count": 19,
   "metadata": {},
   "outputs": [],
   "source": [
    "with open('csv_scraping.csv')as f:\n",
    "    df=pd.read_csv(f,sep=',')"
   ]
  },
  {
   "cell_type": "code",
   "execution_count": 20,
   "metadata": {},
   "outputs": [
    {
     "data": {
      "text/html": [
       "<div>\n",
       "<style scoped>\n",
       "    .dataframe tbody tr th:only-of-type {\n",
       "        vertical-align: middle;\n",
       "    }\n",
       "\n",
       "    .dataframe tbody tr th {\n",
       "        vertical-align: top;\n",
       "    }\n",
       "\n",
       "    .dataframe thead th {\n",
       "        text-align: right;\n",
       "    }\n",
       "</style>\n",
       "<table border=\"1\" class=\"dataframe\">\n",
       "  <thead>\n",
       "    <tr style=\"text-align: right;\">\n",
       "      <th></th>\n",
       "      <th>headline</th>\n",
       "      <th>summary</th>\n",
       "      <th>video_link</th>\n",
       "    </tr>\n",
       "  </thead>\n",
       "  <tbody>\n",
       "    <tr>\n",
       "      <th>0</th>\n",
       "      <td>Python Tutorial: Zip Files – Creating and Extr...</td>\n",
       "      <td>In this video, we will be learning how to crea...</td>\n",
       "      <td>https://youtube.com/watch?v=z0gguhEmWiY</td>\n",
       "    </tr>\n",
       "    <tr>\n",
       "      <th>1</th>\n",
       "      <td>Python Data Science Tutorial: Analyzing the 20...</td>\n",
       "      <td>In this Python Programming video, we will be l...</td>\n",
       "      <td>https://youtube.com/watch?v=_P7X8tMplsw</td>\n",
       "    </tr>\n",
       "    <tr>\n",
       "      <th>2</th>\n",
       "      <td>Python Multiprocessing Tutorial: Run Code in P...</td>\n",
       "      <td>In this Python Programming video, we will be l...</td>\n",
       "      <td>https://youtube.com/watch?v=fKl2JW_qrso</td>\n",
       "    </tr>\n",
       "    <tr>\n",
       "      <th>3</th>\n",
       "      <td>Python Threading Tutorial: Run Code Concurrent...</td>\n",
       "      <td>In this Python Programming video, we will be l...</td>\n",
       "      <td>https://youtube.com/watch?v=IEEhzQoKtQU</td>\n",
       "    </tr>\n",
       "    <tr>\n",
       "      <th>4</th>\n",
       "      <td>Update (2019-09-03)</td>\n",
       "      <td>Hey everyone. I wanted to give you an update o...</td>\n",
       "      <td>NaN</td>\n",
       "    </tr>\n",
       "  </tbody>\n",
       "</table>\n",
       "</div>"
      ],
      "text/plain": [
       "                                            headline  \\\n",
       "0  Python Tutorial: Zip Files – Creating and Extr...   \n",
       "1  Python Data Science Tutorial: Analyzing the 20...   \n",
       "2  Python Multiprocessing Tutorial: Run Code in P...   \n",
       "3  Python Threading Tutorial: Run Code Concurrent...   \n",
       "4                                Update (2019-09-03)   \n",
       "\n",
       "                                             summary  \\\n",
       "0  In this video, we will be learning how to crea...   \n",
       "1  In this Python Programming video, we will be l...   \n",
       "2  In this Python Programming video, we will be l...   \n",
       "3  In this Python Programming video, we will be l...   \n",
       "4  Hey everyone. I wanted to give you an update o...   \n",
       "\n",
       "                                video_link  \n",
       "0  https://youtube.com/watch?v=z0gguhEmWiY  \n",
       "1  https://youtube.com/watch?v=_P7X8tMplsw  \n",
       "2  https://youtube.com/watch?v=fKl2JW_qrso  \n",
       "3  https://youtube.com/watch?v=IEEhzQoKtQU  \n",
       "4                                      NaN  "
      ]
     },
     "execution_count": 20,
     "metadata": {},
     "output_type": "execute_result"
    }
   ],
   "source": [
    "df.head()"
   ]
  },
  {
   "cell_type": "code",
   "execution_count": null,
   "metadata": {},
   "outputs": [],
   "source": []
  }
 ],
 "metadata": {
  "kernelspec": {
   "display_name": "Python 3",
   "language": "python",
   "name": "python3"
  },
  "language_info": {
   "codemirror_mode": {
    "name": "ipython",
    "version": 3
   },
   "file_extension": ".py",
   "mimetype": "text/x-python",
   "name": "python",
   "nbconvert_exporter": "python",
   "pygments_lexer": "ipython3",
   "version": "3.7.4"
  }
 },
 "nbformat": 4,
 "nbformat_minor": 4
}
